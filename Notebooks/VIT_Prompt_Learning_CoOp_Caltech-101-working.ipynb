{
  "nbformat": 4,
  "nbformat_minor": 0,
  "metadata": {
    "colab": {
      "provenance": [],
      "gpuType": "T4"
    },
    "kernelspec": {
      "name": "python3",
      "display_name": "Python 3"
    },
    "language_info": {
      "name": "python"
    },
    "accelerator": "GPU"
  },
  "cells": [
    {
      "cell_type": "markdown",
      "source": [
        "This Colab Notebook is for the Capstone Project implemented as a part of the IISc Deep Learning Course. The project topic is \"Prompt Learning by Vision Transformer (VIT)\""
      ],
      "metadata": {
        "id": "Vx55VYpUxbT6"
      }
    },
    {
      "cell_type": "markdown",
      "source": [
        "We shall be using the prior work done in here:\n",
        "https://github.com/KaiyangZhou/Dassl.pytorch"
      ],
      "metadata": {
        "id": "8Oqh0Ab3xuPH"
      }
    },
    {
      "cell_type": "markdown",
      "source": [
        "**!! WARNING !!** This notebook should be run only once for setting up the code / environment / downloading datasets"
      ],
      "metadata": {
        "id": "m5h6sA5v2iwP"
      }
    },
    {
      "cell_type": "code",
      "source": [
        "# Initialize the project repo URL(s)\n",
        "project_root=\"/content/drive/MyDrive/Work/IISc-DL/Capstone-Project\"\n",
        "dassl_project_repo_url=\"https://github.com/KaiyangZhou/Dassl.pytorch\"\n",
        "coop_project_repo_url=\"https://github.com/lomagoel/CoOp\""
      ],
      "metadata": {
        "id": "6O4NWlaQ5wCS"
      },
      "execution_count": null,
      "outputs": []
    },
    {
      "cell_type": "code",
      "source": [
        "import os"
      ],
      "metadata": {
        "id": "LAFCXdT_Awgv"
      },
      "execution_count": null,
      "outputs": []
    },
    {
      "cell_type": "code",
      "execution_count": null,
      "metadata": {
        "colab": {
          "base_uri": "https://localhost:8080/"
        },
        "id": "C8_kekU_xRbk",
        "outputId": "058a72d2-3b76-4840-e72e-91886db76bf0"
      },
      "outputs": [
        {
          "output_type": "stream",
          "name": "stdout",
          "text": [
            "Mounted at /content/drive\n"
          ]
        }
      ],
      "source": [
        "# Mount the google drive\n",
        "from google.colab import drive\n",
        "drive.mount('/content/drive')"
      ]
    },
    {
      "cell_type": "code",
      "source": [
        "# Change to project directory and persist all files in there\n",
        "%cd {project_root}"
      ],
      "metadata": {
        "colab": {
          "base_uri": "https://localhost:8080/"
        },
        "id": "IGnLIcCC09br",
        "outputId": "0041b2ed-8602-41d9-aa50-634d241577d2"
      },
      "execution_count": null,
      "outputs": [
        {
          "output_type": "stream",
          "name": "stdout",
          "text": [
            "/content/drive/MyDrive/Work/IISc-DL/Capstone-Project\n"
          ]
        }
      ]
    },
    {
      "cell_type": "code",
      "source": [
        "# Clone 'dassl' project\n",
        "# Check if the codebase is already downloaded\n",
        "local_dassl_project_repo_dir = os.path.join(project_root, \"Dassl.pytorch\")\n",
        "if(os.path.exists(local_dassl_project_repo_dir)):\n",
        "  print(\"Dassl.pytorch repo already downloaded\")\n",
        "else:\n",
        "  print(\"Downloading Dassl.pytorch repo ...\")\n",
        "  !git clone {dassl_project_repo_url}\n",
        "  print(\"Done\")"
      ],
      "metadata": {
        "colab": {
          "base_uri": "https://localhost:8080/"
        },
        "id": "OvoTau7C1lnB",
        "outputId": "b0508cf7-9e37-4d25-9589-a7bbbe7c234e"
      },
      "execution_count": null,
      "outputs": [
        {
          "output_type": "stream",
          "name": "stdout",
          "text": [
            "Dassl.pytorch repo already downloaded\n"
          ]
        }
      ]
    },
    {
      "cell_type": "code",
      "source": [
        "# Change to dassl project directory\n",
        "%cd {local_dassl_project_repo_dir}\n",
        "!pip install -r requirements.txt"
      ],
      "metadata": {
        "collapsed": true,
        "id": "c644NLlD6UO1"
      },
      "execution_count": null,
      "outputs": []
    },
    {
      "cell_type": "code",
      "source": [
        "# Install this library (no need to re-build if the source code is modified)\n",
        "!python setup.py develop"
      ],
      "metadata": {
        "collapsed": true,
        "id": "ue2YD7Zm6aCe"
      },
      "execution_count": null,
      "outputs": []
    },
    {
      "cell_type": "code",
      "source": [
        "# Clone 'CoOp' project inside 'dassl' project\n",
        "# Check if the codebase is already downloaded\n",
        "local_coop_project_repo_dir = os.path.join(local_dassl_project_repo_dir, \"CoOp\")\n",
        "if(os.path.exists(local_coop_project_repo_dir)):\n",
        "  print(\"CoOp repo already downloaded\")\n",
        "else:\n",
        "  print(\"Downloading CoOp repo ...\")\n",
        "  !git clone {coop_project_repo_url}\n",
        "  print(\"Done\")"
      ],
      "metadata": {
        "colab": {
          "base_uri": "https://localhost:8080/"
        },
        "collapsed": true,
        "id": "dA8vjcrUVHQC",
        "outputId": "68e1967f-7089-4305-bba2-1fbbbbf508f8"
      },
      "execution_count": null,
      "outputs": [
        {
          "output_type": "stream",
          "name": "stdout",
          "text": [
            "CoOp repo already downloaded\n"
          ]
        }
      ]
    },
    {
      "cell_type": "markdown",
      "source": [
        "We will be performing the first experiment with **Caltech-101 Dataset**.\n",
        "For this example, we are downloading the dataset from Kaggle."
      ],
      "metadata": {
        "id": "CH8wWW3kXeCR"
      }
    },
    {
      "cell_type": "code",
      "source": [
        "from google.colab import files"
      ],
      "metadata": {
        "id": "GM9DMQe1ntwS"
      },
      "execution_count": null,
      "outputs": []
    },
    {
      "cell_type": "code",
      "source": [
        "# Complete the regular drill of Creating a Token in Kaggle and download the token\n",
        "# in a JSON file. Now upload the JSON file from desktop to the Google cloud environment,\n",
        "# so that the Google Colab notebook can use the JSON.\n",
        "\n",
        "# Create a folder for the JSON file\n",
        "!mkdir ~/.kaggle\n",
        "\n",
        "# Upload the JSON file\n",
        "files.upload()\n",
        "\n",
        "# Move the JSON file and change permissions\n",
        "!mv kaggle.json ~/.kaggle/\n",
        "!chmod 600 ~/.kaggle/kaggle.json"
      ],
      "metadata": {
        "colab": {
          "base_uri": "https://localhost:8080/",
          "height": 74
        },
        "id": "vGC1iw9AZRqd",
        "outputId": "ae1dc7ed-4b87-4c51-901e-2a4f4b1fd925"
      },
      "execution_count": null,
      "outputs": [
        {
          "output_type": "display_data",
          "data": {
            "text/plain": [
              "<IPython.core.display.HTML object>"
            ],
            "text/html": [
              "\n",
              "     <input type=\"file\" id=\"files-ae49c295-d836-4ca8-895d-4cb6bb53cf36\" name=\"files[]\" multiple disabled\n",
              "        style=\"border:none\" />\n",
              "     <output id=\"result-ae49c295-d836-4ca8-895d-4cb6bb53cf36\">\n",
              "      Upload widget is only available when the cell has been executed in the\n",
              "      current browser session. Please rerun this cell to enable.\n",
              "      </output>\n",
              "      <script>// Copyright 2017 Google LLC\n",
              "//\n",
              "// Licensed under the Apache License, Version 2.0 (the \"License\");\n",
              "// you may not use this file except in compliance with the License.\n",
              "// You may obtain a copy of the License at\n",
              "//\n",
              "//      http://www.apache.org/licenses/LICENSE-2.0\n",
              "//\n",
              "// Unless required by applicable law or agreed to in writing, software\n",
              "// distributed under the License is distributed on an \"AS IS\" BASIS,\n",
              "// WITHOUT WARRANTIES OR CONDITIONS OF ANY KIND, either express or implied.\n",
              "// See the License for the specific language governing permissions and\n",
              "// limitations under the License.\n",
              "\n",
              "/**\n",
              " * @fileoverview Helpers for google.colab Python module.\n",
              " */\n",
              "(function(scope) {\n",
              "function span(text, styleAttributes = {}) {\n",
              "  const element = document.createElement('span');\n",
              "  element.textContent = text;\n",
              "  for (const key of Object.keys(styleAttributes)) {\n",
              "    element.style[key] = styleAttributes[key];\n",
              "  }\n",
              "  return element;\n",
              "}\n",
              "\n",
              "// Max number of bytes which will be uploaded at a time.\n",
              "const MAX_PAYLOAD_SIZE = 100 * 1024;\n",
              "\n",
              "function _uploadFiles(inputId, outputId) {\n",
              "  const steps = uploadFilesStep(inputId, outputId);\n",
              "  const outputElement = document.getElementById(outputId);\n",
              "  // Cache steps on the outputElement to make it available for the next call\n",
              "  // to uploadFilesContinue from Python.\n",
              "  outputElement.steps = steps;\n",
              "\n",
              "  return _uploadFilesContinue(outputId);\n",
              "}\n",
              "\n",
              "// This is roughly an async generator (not supported in the browser yet),\n",
              "// where there are multiple asynchronous steps and the Python side is going\n",
              "// to poll for completion of each step.\n",
              "// This uses a Promise to block the python side on completion of each step,\n",
              "// then passes the result of the previous step as the input to the next step.\n",
              "function _uploadFilesContinue(outputId) {\n",
              "  const outputElement = document.getElementById(outputId);\n",
              "  const steps = outputElement.steps;\n",
              "\n",
              "  const next = steps.next(outputElement.lastPromiseValue);\n",
              "  return Promise.resolve(next.value.promise).then((value) => {\n",
              "    // Cache the last promise value to make it available to the next\n",
              "    // step of the generator.\n",
              "    outputElement.lastPromiseValue = value;\n",
              "    return next.value.response;\n",
              "  });\n",
              "}\n",
              "\n",
              "/**\n",
              " * Generator function which is called between each async step of the upload\n",
              " * process.\n",
              " * @param {string} inputId Element ID of the input file picker element.\n",
              " * @param {string} outputId Element ID of the output display.\n",
              " * @return {!Iterable<!Object>} Iterable of next steps.\n",
              " */\n",
              "function* uploadFilesStep(inputId, outputId) {\n",
              "  const inputElement = document.getElementById(inputId);\n",
              "  inputElement.disabled = false;\n",
              "\n",
              "  const outputElement = document.getElementById(outputId);\n",
              "  outputElement.innerHTML = '';\n",
              "\n",
              "  const pickedPromise = new Promise((resolve) => {\n",
              "    inputElement.addEventListener('change', (e) => {\n",
              "      resolve(e.target.files);\n",
              "    });\n",
              "  });\n",
              "\n",
              "  const cancel = document.createElement('button');\n",
              "  inputElement.parentElement.appendChild(cancel);\n",
              "  cancel.textContent = 'Cancel upload';\n",
              "  const cancelPromise = new Promise((resolve) => {\n",
              "    cancel.onclick = () => {\n",
              "      resolve(null);\n",
              "    };\n",
              "  });\n",
              "\n",
              "  // Wait for the user to pick the files.\n",
              "  const files = yield {\n",
              "    promise: Promise.race([pickedPromise, cancelPromise]),\n",
              "    response: {\n",
              "      action: 'starting',\n",
              "    }\n",
              "  };\n",
              "\n",
              "  cancel.remove();\n",
              "\n",
              "  // Disable the input element since further picks are not allowed.\n",
              "  inputElement.disabled = true;\n",
              "\n",
              "  if (!files) {\n",
              "    return {\n",
              "      response: {\n",
              "        action: 'complete',\n",
              "      }\n",
              "    };\n",
              "  }\n",
              "\n",
              "  for (const file of files) {\n",
              "    const li = document.createElement('li');\n",
              "    li.append(span(file.name, {fontWeight: 'bold'}));\n",
              "    li.append(span(\n",
              "        `(${file.type || 'n/a'}) - ${file.size} bytes, ` +\n",
              "        `last modified: ${\n",
              "            file.lastModifiedDate ? file.lastModifiedDate.toLocaleDateString() :\n",
              "                                    'n/a'} - `));\n",
              "    const percent = span('0% done');\n",
              "    li.appendChild(percent);\n",
              "\n",
              "    outputElement.appendChild(li);\n",
              "\n",
              "    const fileDataPromise = new Promise((resolve) => {\n",
              "      const reader = new FileReader();\n",
              "      reader.onload = (e) => {\n",
              "        resolve(e.target.result);\n",
              "      };\n",
              "      reader.readAsArrayBuffer(file);\n",
              "    });\n",
              "    // Wait for the data to be ready.\n",
              "    let fileData = yield {\n",
              "      promise: fileDataPromise,\n",
              "      response: {\n",
              "        action: 'continue',\n",
              "      }\n",
              "    };\n",
              "\n",
              "    // Use a chunked sending to avoid message size limits. See b/62115660.\n",
              "    let position = 0;\n",
              "    do {\n",
              "      const length = Math.min(fileData.byteLength - position, MAX_PAYLOAD_SIZE);\n",
              "      const chunk = new Uint8Array(fileData, position, length);\n",
              "      position += length;\n",
              "\n",
              "      const base64 = btoa(String.fromCharCode.apply(null, chunk));\n",
              "      yield {\n",
              "        response: {\n",
              "          action: 'append',\n",
              "          file: file.name,\n",
              "          data: base64,\n",
              "        },\n",
              "      };\n",
              "\n",
              "      let percentDone = fileData.byteLength === 0 ?\n",
              "          100 :\n",
              "          Math.round((position / fileData.byteLength) * 100);\n",
              "      percent.textContent = `${percentDone}% done`;\n",
              "\n",
              "    } while (position < fileData.byteLength);\n",
              "  }\n",
              "\n",
              "  // All done.\n",
              "  yield {\n",
              "    response: {\n",
              "      action: 'complete',\n",
              "    }\n",
              "  };\n",
              "}\n",
              "\n",
              "scope.google = scope.google || {};\n",
              "scope.google.colab = scope.google.colab || {};\n",
              "scope.google.colab._files = {\n",
              "  _uploadFiles,\n",
              "  _uploadFilesContinue,\n",
              "};\n",
              "})(self);\n",
              "</script> "
            ]
          },
          "metadata": {}
        },
        {
          "output_type": "stream",
          "name": "stdout",
          "text": [
            "Saving kaggle.json to kaggle.json\n"
          ]
        }
      ]
    },
    {
      "cell_type": "code",
      "source": [
        "# CoOp Datasets folder\n",
        "coop_project_dataset_dir = os.path.join(local_coop_project_repo_dir, \"datasets\")\n",
        "# caltech-101 dataset directory\n",
        "caltech_101_dataset_dir = os.path.join(coop_project_dataset_dir, \"caltech-101\")"
      ],
      "metadata": {
        "id": "rVvqnWapocz4"
      },
      "execution_count": null,
      "outputs": []
    },
    {
      "cell_type": "code",
      "source": [
        "# Download caltech-101 dataset from kaggle\n",
        "!kaggle datasets download imbikramsaha/caltech-101 --force -p {caltech_101_dataset_dir}"
      ],
      "metadata": {
        "colab": {
          "base_uri": "https://localhost:8080/"
        },
        "id": "NJyOkKvNXasb",
        "outputId": "36d3dd0a-278c-4930-8637-9e2ef9509c2c"
      },
      "execution_count": null,
      "outputs": [
        {
          "output_type": "stream",
          "name": "stdout",
          "text": [
            "Dataset URL: https://www.kaggle.com/datasets/imbikramsaha/caltech-101\n",
            "License(s): CC0-1.0\n",
            "Downloading caltech-101.zip to /content/drive/MyDrive/Work/IISc-DL/Capstone-Project/Dassl.pytorch/CoOp/datasets/caltech-101\n",
            " 81% 106M/131M [00:00<00:00, 282MB/s] \n",
            "100% 131M/131M [00:00<00:00, 268MB/s]\n"
          ]
        }
      ]
    },
    {
      "cell_type": "code",
      "source": [
        "# Extract images from the zip to a specific folder\n",
        "caltech_101_dataset_zip_path = os.path.join(caltech_101_dataset_dir, \"caltech-101.zip\")\n",
        "\n",
        "dest_folder = os.path.join(caltech_101_dataset_dir, \"101_ObjectCategories\")\n",
        "!mkdir {dest_folder}\n",
        "!unzip -q {caltech_101_dataset_zip_path} -d {dest_folder}"
      ],
      "metadata": {
        "id": "-UAIhVMBaVIP"
      },
      "execution_count": null,
      "outputs": []
    },
    {
      "cell_type": "code",
      "source": [
        "# The images folder has to be massaged. The model expects the image file in the following\n",
        "# structure. Image files should be in <dataset-dir>/caltech-101/101_ObjectCategories/<class>\n",
        "# Currently the images are extracted under <dataset-dir>/caltech-101/101_ObjectCategories/caltech-101/<class>\n",
        "# the followinc code will move the image class folder appropriately.\n",
        "\n",
        "# Current folder is <dataset-dir>/caltech-101\n",
        "# Target folder is <dataset-dir>/caltech-101/101_ObjectCategories/<class>\n",
        "\n",
        "dirs = os.listdir(dest_folder)\n",
        "for dir in dirs:\n",
        "  if(dir == \"BACKGROUND_Google\"):\n",
        "    continue\n",
        "  dir_path = os.path.join(dest_folder, dir)\n",
        "  image_folders = os.listdir(dir_path)\n",
        "  for image_folder in image_folders:\n",
        "    # move these image folders one level up\n",
        "    image_folder_path = os.path.join(dir_path, image_folder)\n",
        "    !mv {image_folder_path} {dest_folder}"
      ],
      "metadata": {
        "id": "mysxzBdTgo5b"
      },
      "execution_count": null,
      "outputs": []
    },
    {
      "cell_type": "code",
      "source": [
        "# Change to caltech-101 dataset folder\n",
        "%cd {caltech_101_dataset_dir}"
      ],
      "metadata": {
        "colab": {
          "base_uri": "https://localhost:8080/"
        },
        "id": "d0KDJBTbg6oZ",
        "outputId": "e941fe4d-a490-4c8b-fd1d-698fc6fa78a0"
      },
      "execution_count": null,
      "outputs": [
        {
          "output_type": "stream",
          "name": "stdout",
          "text": [
            "/content/drive/MyDrive/Work/IISc-DL/Capstone-Project/Dassl.pytorch/CoOp/datasets/caltech-101\n"
          ]
        }
      ]
    },
    {
      "cell_type": "code",
      "source": [
        "# Another JSON file is required to separate out the training and validation data\n",
        "# JSON file is available in the following location:\n",
        "# https://drive.google.com/file/d/1hyarUivQE36mY6jSomru6Fjd-JzwcCzN\n",
        "\n",
        "# Suggest that the JSON is downloaded on to desktop and uploaded.\n",
        "files.upload()\n"
      ],
      "metadata": {
        "collapsed": true,
        "id": "4g5ZdEW2fI8Q"
      },
      "execution_count": null,
      "outputs": []
    },
    {
      "cell_type": "code",
      "source": [
        "# Move back to the root directory of \"CoOp\" project\n",
        "%cd {local_coop_project_repo_dir}"
      ],
      "metadata": {
        "colab": {
          "base_uri": "https://localhost:8080/"
        },
        "id": "KXKeL4_Hj-wD",
        "outputId": "33d3d03a-ecbd-42c3-acc2-02e1e423705b"
      },
      "execution_count": null,
      "outputs": [
        {
          "output_type": "stream",
          "name": "stdout",
          "text": [
            "/content/drive/MyDrive/Work/IISc-DL/Capstone-Project/Dassl.pytorch/CoOp\n"
          ]
        }
      ]
    },
    {
      "cell_type": "code",
      "source": [
        "# !!! WARNING !!!\n",
        "# Optional step: if you want a clean output folder, uncomment the code line\n",
        "# Suggest not to run it because data from all older runs can get removed\n",
        "\n",
        "# !rm -rf output"
      ],
      "metadata": {
        "id": "7cTiOYv3pv3L"
      },
      "execution_count": null,
      "outputs": []
    },
    {
      "cell_type": "markdown",
      "source": [
        "# Now we are done with the code set-up and datasets"
      ],
      "metadata": {
        "id": "U9ITU8fiitKC"
      }
    },
    {
      "cell_type": "code",
      "source": [
        "# Execute the script for caltech-101 data\n",
        "# CLIP + CoOp (M=16, end):\n",
        "# 16 shots: bash scripts/coop/main.sh caltech101 rn50_ep50 end 16 6 False\n",
        "\n",
        "!bash scripts/coop/main.sh caltech101 rn50_ep50 end 16 16 False"
      ],
      "metadata": {
        "id": "AZgVW2VNi16m"
      },
      "execution_count": null,
      "outputs": []
    },
    {
      "cell_type": "code",
      "source": [
        "# Results\n",
        "!python parse_test_res.py output/caltech101/CoOp/rn50_ep50_16shots/nctx16_cscFalse_ctpend"
      ],
      "metadata": {
        "colab": {
          "base_uri": "https://localhost:8080/"
        },
        "id": "-cp2rLpNeytj",
        "outputId": "c513734f-c244-405e-9dc4-f1453404694f"
      },
      "execution_count": null,
      "outputs": [
        {
          "output_type": "stream",
          "name": "stdout",
          "text": [
            "Parsing files in output/caltech101/CoOp/rn50_ep50_16shots/nctx16_cscFalse_ctpend\n",
            "file: output/caltech101/CoOp/rn50_ep50_16shots/nctx16_cscFalse_ctpend/seed1/log.txt. accuracy: 91.70%. \n",
            "file: output/caltech101/CoOp/rn50_ep50_16shots/nctx16_cscFalse_ctpend/seed2/log.txt. accuracy: 92.00%. \n",
            "file: output/caltech101/CoOp/rn50_ep50_16shots/nctx16_cscFalse_ctpend/seed3/log.txt. accuracy: 91.50%. \n",
            "===\n",
            "Summary of directory: output/caltech101/CoOp/rn50_ep50_16shots/nctx16_cscFalse_ctpend\n",
            "* accuracy: 91.73% +- 0.21%\n",
            "===\n"
          ]
        }
      ]
    }
  ]
}